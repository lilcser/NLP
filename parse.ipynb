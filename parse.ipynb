{
 "cells": [
  {
   "cell_type": "code",
   "execution_count": 2,
   "metadata": {},
   "outputs": [
    {
     "name": "stdout",
     "output_type": "stream",
     "text": [
      "{'sentences': [{'index': 0, 'parse': '(ROOT\\r\\n  (S\\r\\n    (NP (NN M)\\r\\n      (CC and)\\r\\n      (NN N))\\r\\n    (VP (VBD walked)\\r\\n      (PP (IN towards)\\r\\n        (NP (DT the) (NN city))))\\r\\n    (. .)))', 'basicDependencies': [{'dep': 'ROOT', 'governor': 0, 'governorGloss': 'ROOT', 'dependent': 4, 'dependentGloss': 'walked'}, {'dep': 'nsubj', 'governor': 4, 'governorGloss': 'walked', 'dependent': 1, 'dependentGloss': 'M'}, {'dep': 'cc', 'governor': 1, 'governorGloss': 'M', 'dependent': 2, 'dependentGloss': 'and'}, {'dep': 'conj', 'governor': 1, 'governorGloss': 'M', 'dependent': 3, 'dependentGloss': 'N'}, {'dep': 'case', 'governor': 7, 'governorGloss': 'city', 'dependent': 5, 'dependentGloss': 'towards'}, {'dep': 'det', 'governor': 7, 'governorGloss': 'city', 'dependent': 6, 'dependentGloss': 'the'}, {'dep': 'nmod', 'governor': 4, 'governorGloss': 'walked', 'dependent': 7, 'dependentGloss': 'city'}, {'dep': 'punct', 'governor': 4, 'governorGloss': 'walked', 'dependent': 8, 'dependentGloss': '.'}], 'enhancedDependencies': [{'dep': 'ROOT', 'governor': 0, 'governorGloss': 'ROOT', 'dependent': 4, 'dependentGloss': 'walked'}, {'dep': 'nsubj', 'governor': 4, 'governorGloss': 'walked', 'dependent': 1, 'dependentGloss': 'M'}, {'dep': 'cc', 'governor': 1, 'governorGloss': 'M', 'dependent': 2, 'dependentGloss': 'and'}, {'dep': 'conj:and', 'governor': 1, 'governorGloss': 'M', 'dependent': 3, 'dependentGloss': 'N'}, {'dep': 'nsubj', 'governor': 4, 'governorGloss': 'walked', 'dependent': 3, 'dependentGloss': 'N'}, {'dep': 'case', 'governor': 7, 'governorGloss': 'city', 'dependent': 5, 'dependentGloss': 'towards'}, {'dep': 'det', 'governor': 7, 'governorGloss': 'city', 'dependent': 6, 'dependentGloss': 'the'}, {'dep': 'nmod:towards', 'governor': 4, 'governorGloss': 'walked', 'dependent': 7, 'dependentGloss': 'city'}, {'dep': 'punct', 'governor': 4, 'governorGloss': 'walked', 'dependent': 8, 'dependentGloss': '.'}], 'enhancedPlusPlusDependencies': [{'dep': 'ROOT', 'governor': 0, 'governorGloss': 'ROOT', 'dependent': 4, 'dependentGloss': 'walked'}, {'dep': 'nsubj', 'governor': 4, 'governorGloss': 'walked', 'dependent': 1, 'dependentGloss': 'M'}, {'dep': 'cc', 'governor': 1, 'governorGloss': 'M', 'dependent': 2, 'dependentGloss': 'and'}, {'dep': 'conj:and', 'governor': 1, 'governorGloss': 'M', 'dependent': 3, 'dependentGloss': 'N'}, {'dep': 'nsubj', 'governor': 4, 'governorGloss': 'walked', 'dependent': 3, 'dependentGloss': 'N'}, {'dep': 'case', 'governor': 7, 'governorGloss': 'city', 'dependent': 5, 'dependentGloss': 'towards'}, {'dep': 'det', 'governor': 7, 'governorGloss': 'city', 'dependent': 6, 'dependentGloss': 'the'}, {'dep': 'nmod:towards', 'governor': 4, 'governorGloss': 'walked', 'dependent': 7, 'dependentGloss': 'city'}, {'dep': 'punct', 'governor': 4, 'governorGloss': 'walked', 'dependent': 8, 'dependentGloss': '.'}], 'tokens': [{'index': 1, 'word': 'M', 'originalText': 'M', 'characterOffsetBegin': 0, 'characterOffsetEnd': 1, 'pos': 'NN', 'before': '', 'after': ' '}, {'index': 2, 'word': 'and', 'originalText': 'and', 'characterOffsetBegin': 2, 'characterOffsetEnd': 5, 'pos': 'CC', 'before': ' ', 'after': ' '}, {'index': 3, 'word': 'N', 'originalText': 'N', 'characterOffsetBegin': 6, 'characterOffsetEnd': 7, 'pos': 'NN', 'before': ' ', 'after': ' '}, {'index': 4, 'word': 'walked', 'originalText': 'walked', 'characterOffsetBegin': 8, 'characterOffsetEnd': 14, 'pos': 'VBD', 'before': ' ', 'after': ' '}, {'index': 5, 'word': 'towards', 'originalText': 'towards', 'characterOffsetBegin': 15, 'characterOffsetEnd': 22, 'pos': 'IN', 'before': ' ', 'after': ' '}, {'index': 6, 'word': 'the', 'originalText': 'the', 'characterOffsetBegin': 23, 'characterOffsetEnd': 26, 'pos': 'DT', 'before': ' ', 'after': ' '}, {'index': 7, 'word': 'city', 'originalText': 'city', 'characterOffsetBegin': 27, 'characterOffsetEnd': 31, 'pos': 'NN', 'before': ' ', 'after': ''}, {'index': 8, 'word': '.', 'originalText': '.', 'characterOffsetBegin': 31, 'characterOffsetEnd': 32, 'pos': '.', 'before': '', 'after': ''}]}]}\n"
     ]
    }
   ],
   "source": [
    "# parse (see depparse also)\n",
    "\n",
    "from pycorenlp import StanfordCoreNLP\n",
    "nlp = StanfordCoreNLP('http://localhost:9000')\n",
    "\n",
    "text = ('M and N walked towards the city.')\n",
    "\n",
    "output = nlp.annotate(text, properties={\n",
    "    'annotators': 'parse',\n",
    "    'outputFormat': 'json'\n",
    "})\n",
    "\n",
    "print(output)"
   ]
  },
  {
   "cell_type": "markdown",
   "metadata": {},
   "source": [
    "[Formatted json](https://github.com/lilcser/NLP-Annotators/blob/master/parse.json)"
   ]
  }
 ],
 "metadata": {
  "kernelspec": {
   "display_name": "Python 3",
   "language": "python",
   "name": "python3"
  },
  "language_info": {
   "codemirror_mode": {
    "name": "ipython",
    "version": 3
   },
   "file_extension": ".py",
   "mimetype": "text/x-python",
   "name": "python",
   "nbconvert_exporter": "python",
   "pygments_lexer": "ipython3",
   "version": "3.6.5"
  }
 },
 "nbformat": 4,
 "nbformat_minor": 2
}
