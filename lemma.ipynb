{
 "cells": [
  {
   "cell_type": "code",
   "execution_count": 2,
   "metadata": {},
   "outputs": [
    {
     "name": "stdout",
     "output_type": "stream",
     "text": [
      "{'sentences': [{'index': 0, 'tokens': [{'index': 1, 'word': 'M', 'originalText': 'M', 'lemma': 'm', 'characterOffsetBegin': 0, 'characterOffsetEnd': 1, 'pos': 'NN', 'before': '', 'after': ' '}, {'index': 2, 'word': 'and', 'originalText': 'and', 'lemma': 'and', 'characterOffsetBegin': 2, 'characterOffsetEnd': 5, 'pos': 'CC', 'before': ' ', 'after': ' '}, {'index': 3, 'word': 'N', 'originalText': 'N', 'lemma': 'n', 'characterOffsetBegin': 6, 'characterOffsetEnd': 7, 'pos': 'NN', 'before': ' ', 'after': ' '}, {'index': 4, 'word': 'walked', 'originalText': 'walked', 'lemma': 'walk', 'characterOffsetBegin': 8, 'characterOffsetEnd': 14, 'pos': 'VBD', 'before': ' ', 'after': ' '}, {'index': 5, 'word': 'towards', 'originalText': 'towards', 'lemma': 'towards', 'characterOffsetBegin': 15, 'characterOffsetEnd': 22, 'pos': 'IN', 'before': ' ', 'after': ' '}, {'index': 6, 'word': 'the', 'originalText': 'the', 'lemma': 'the', 'characterOffsetBegin': 23, 'characterOffsetEnd': 26, 'pos': 'DT', 'before': ' ', 'after': ' '}, {'index': 7, 'word': 'city', 'originalText': 'city', 'lemma': 'city', 'characterOffsetBegin': 27, 'characterOffsetEnd': 31, 'pos': 'NN', 'before': ' ', 'after': ''}, {'index': 8, 'word': '.', 'originalText': '.', 'lemma': '.', 'characterOffsetBegin': 31, 'characterOffsetEnd': 32, 'pos': '.', 'before': '', 'after': ''}]}]}\n"
     ]
    }
   ],
   "source": [
    "# lemma\n",
    "\n",
    "from pycorenlp import StanfordCoreNLP\n",
    "nlp = StanfordCoreNLP('http://localhost:9000')\n",
    "\n",
    "text = ('M and N walked towards the city.')\n",
    "\n",
    "output = nlp.annotate(text, properties={\n",
    "    'annotators': 'lemma',\n",
    "    'outputFormat': 'json'\n",
    "})\n",
    "\n",
    "print(output)"
   ]
  },
  {
   "cell_type": "markdown",
   "metadata": {},
   "source": [
    "[Formatted json](https://github.com/lilcser/NLP/blob/master/lemma.json)"
   ]
  }
 ],
 "metadata": {
  "kernelspec": {
   "display_name": "Python 3",
   "language": "python",
   "name": "python3"
  },
  "language_info": {
   "codemirror_mode": {
    "name": "ipython",
    "version": 3
   },
   "file_extension": ".py",
   "mimetype": "text/x-python",
   "name": "python",
   "nbconvert_exporter": "python",
   "pygments_lexer": "ipython3",
   "version": "3.6.5"
  }
 },
 "nbformat": 4,
 "nbformat_minor": 2
}
