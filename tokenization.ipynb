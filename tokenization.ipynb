{
 "cells": [
  {
   "cell_type": "code",
   "execution_count": 2,
   "metadata": {},
   "outputs": [
    {
     "name": "stdout",
     "output_type": "stream",
     "text": [
      "{'tokens': [{'index': -1, 'word': 'M', 'originalText': 'M', 'characterOffsetBegin': 0, 'characterOffsetEnd': 1}, {'index': -1, 'word': 'and', 'originalText': 'and', 'characterOffsetBegin': 2, 'characterOffsetEnd': 5}, {'index': -1, 'word': 'N', 'originalText': 'N', 'characterOffsetBegin': 6, 'characterOffsetEnd': 7}, {'index': -1, 'word': 'walked', 'originalText': 'walked', 'characterOffsetBegin': 8, 'characterOffsetEnd': 14}, {'index': -1, 'word': 'towards', 'originalText': 'towards', 'characterOffsetBegin': 15, 'characterOffsetEnd': 22}, {'index': -1, 'word': 'the', 'originalText': 'the', 'characterOffsetBegin': 23, 'characterOffsetEnd': 26}, {'index': -1, 'word': 'city', 'originalText': 'city', 'characterOffsetBegin': 27, 'characterOffsetEnd': 31}, {'index': -1, 'word': '.', 'originalText': '.', 'characterOffsetBegin': 31, 'characterOffsetEnd': 32}]}\n"
     ]
    }
   ],
   "source": [
    "# tokenization\n",
    "\n",
    "from pycorenlp import StanfordCoreNLP\n",
    "nlp = StanfordCoreNLP('http://localhost:9000')\n",
    "\n",
    "text = ('M and N walked towards the city.')\n",
    "\n",
    "output = nlp.annotate(text, properties={\n",
    "    'annotators': 'tokenize',\n",
    "    'outputFormat': 'json'\n",
    "})\n",
    "\n",
    "print(output)"
   ]
  },
  {
   "cell_type": "markdown",
   "metadata": {},
   "source": [
    "#### [Formatted json](https://github.com/lilcser/NLP/blob/master/tokenization.json)"
   ]
  }
 ],
 "metadata": {
  "kernelspec": {
   "display_name": "Python 3",
   "language": "python",
   "name": "python3"
  },
  "language_info": {
   "codemirror_mode": {
    "name": "ipython",
    "version": 3
   },
   "file_extension": ".py",
   "mimetype": "text/x-python",
   "name": "python",
   "nbconvert_exporter": "python",
   "pygments_lexer": "ipython3",
   "version": "3.6.5"
  }
 },
 "nbformat": 4,
 "nbformat_minor": 2
}
